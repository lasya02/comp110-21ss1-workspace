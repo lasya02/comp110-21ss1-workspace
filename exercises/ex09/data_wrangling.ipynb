{
 "cells": [
  {
   "cell_type": "markdown",
   "metadata": {},
   "source": [
    "# EX09: Data Wrangling\n",
    "\n",
    "You will define and use functions that are commonly useful when _wrangling_ data in this exercise. You will frequently need your data to be organized in specific ways in order to perform analysis on it and that organization is rarely exactly the \"shape\" the data is stored in (such as a CSV table). Data _wrangling_ is the process of loading, converting, and reorganizing data so that you can analyze it."
   ]
  },
  {
   "cell_type": "code",
   "execution_count": null,
   "metadata": {},
   "outputs": [],
   "source": [
    "__author__ = \"123456789\""
   ]
  },
  {
   "cell_type": "markdown",
   "metadata": {},
   "source": [
    "We have implemented most of the utility functionsn for this exercise in class this week. You should copy them into the `data_utils.py` file found in the `exercises/ex09` directory. As you now know, when you import modules in a running Python program, the module is evaluated only once. Since your Jupyter Notebook _kernel_ is running the entire time you are working on functions in `data_utils.py`, we will use a special extension to automatically reload any changes you make _and save_ in modules you import. The special conventions in the cell below are turning this feature on."
   ]
  },
  {
   "cell_type": "code",
   "execution_count": 1,
   "metadata": {},
   "outputs": [
    {
     "output_type": "stream",
     "name": "stdout",
     "text": [
      "Autoreload of imported modules enabled. Be sure to save your work in other modules!\n"
     ]
    }
   ],
   "source": [
    "%reload_ext autoreload\n",
    "%autoreload 2\n",
    "print(\"Autoreload of imported modules enabled. Be sure to save your work in other modules!\")"
   ]
  },
  {
   "cell_type": "markdown",
   "metadata": {},
   "source": [
    "Data files will be stored in the `data` directory of the workspace. This Notebook is located in `exercises/ex09` directory. If you think of how to _navigate_ from this directory to the `data` directory, you would need to go \"two directories up\" and then \"into the `data` directory\". The constant `DATA_DIRECTORY` defined below uses the convention of two dots to refer to \"one directory up\", so it is a `str` that references the `data` directory _relative_ to this exercise's directory.\n",
    "\n",
    "Then, another constant is established referencing the path to the data file you will use to test your functions in this exercise."
   ]
  },
  {
   "cell_type": "code",
   "execution_count": 2,
   "metadata": {},
   "outputs": [],
   "source": [
    "DATA_DIRECTORY=\"../../data\"\n",
    "DATA_FILE_PATH=f\"{DATA_DIRECTORY}/nc_durham_2015_march_21_to_27.csv\""
   ]
  },
  {
   "cell_type": "markdown",
   "metadata": {},
   "source": [
    "## Part 0. Reading Data from a Stored CSV File into Memory\n",
    "\n",
    "In this part of the exercise, you will use utility functions to read a CSV file from your computer's hard-drive storage into your running program's (Jupyter kernel's) memory. Once in memory, computations over the data set are very fast.\n",
    "\n",
    "By default, your CSV file is read in row-by-row. Storing these rows as a list of \"row\" dictionaries is one way of _representing_ tabular data.\n",
    "\n",
    "If you haven't already, navigate to the CSV file we will be using (hint: look in your 'data' directory). You should not edit this file, but familiarize yourself with its general layout and content. Getting a feel for how this data is organized can help you feel more comfortable when utilizing it!\n",
    "\n",
    "### 0.0) Implement the `read_csv_rows` Function\n",
    "\n",
    "Review the implementation of the `read_csv_rows` function in `data_utils.py`. If you haven't fully completed it, be sure to save your work when making changes in that file _before_ re-evaluating the cell below to test it.\n",
    "\n",
    "Purpose: Read an entire CSV of data into a `list` of rows, each row represented as `dict[str, str]`.\n",
    "\n",
    "There _should be_ 348 rows and 29 columns read from the `nc_durham_2015_march_21_to_27.csv` stops file. Additionally, the column names should print below those stats."
   ]
  },
  {
   "cell_type": "code",
   "execution_count": 3,
   "metadata": {},
   "outputs": [
    {
     "output_type": "stream",
     "name": "stdout",
     "text": [
      "Data File Read: ../../data/nc_durham_2015_march_21_to_27.csv\n348 rows\n29 columns\nColumns names: dict_keys(['raw_row_number', 'date', 'time', 'location', 'county_name', 'subject_age', 'subject_race', 'subject_sex', 'officer_id_hash', 'department_name', 'type', 'arrest_made', 'citation_issued', 'warning_issued', 'outcome', 'contraband_found', 'contraband_drugs', 'contraband_weapons', 'frisk_performed', 'search_conducted', 'search_person', 'search_vehicle', 'search_basis', 'reason_for_frisk', 'reason_for_search', 'reason_for_stop', 'raw_Ethnicity', 'raw_Race', 'raw_action_description'])\n"
     ]
    }
   ],
   "source": [
    "from data_utils import read_csv_rows \n",
    "\n",
    "data_rows: list[dict[str, str]] = read_csv_rows(DATA_FILE_PATH)\n",
    "\n",
    "if len(data_rows) == 0:\n",
    "    print(\"Go implement read_csv_rows in data_utils.py\")\n",
    "    print(\"Be sure to save your work before re-evaluating this cell!\")\n",
    "else:\n",
    "    print(f\"Data File Read: {DATA_FILE_PATH}\")\n",
    "    print(f\"{len(data_rows)} rows\")\n",
    "    print(f\"{len(data_rows[0].keys())} columns\")\n",
    "    print(f\"Columns names: {data_rows[0].keys()}\")"
   ]
  },
  {
   "cell_type": "markdown",
   "metadata": {},
   "source": [
    "### 0.1) `column_values` Function\n",
    "\n",
    "Review this function in `data_utils.py`.\n",
    "\n",
    "Purpose: Produce a `list[str]` of all values in a single `column` whose name is the second parameter.\n",
    "\n",
    "Implementation strategy: Establish an empty list to store your column values. Loop through every row in the first parameter. Append the value associated with the key (\"column\") given as the second parameter to your list of column values. After looping through every row, return the list of column values.\n",
    "\n",
    " Be sure to save your work before re-evaluating the cell below to test it. With the data loaded in `nc_durham_2015_march_21_to_27.csv`, there should be 348 values in the column. The first five values of the `subject_age` column should be 33, 25, 26, 24, 44."
   ]
  },
  {
   "cell_type": "code",
   "execution_count": 4,
   "metadata": {},
   "outputs": [
    {
     "output_type": "stream",
     "name": "stdout",
     "text": [
      "Column 'subject_age' has 348 values.\nThe first five values are:\n33\n25\n26\n24\n44\n"
     ]
    }
   ],
   "source": [
    "from data_utils import column_values\n",
    "\n",
    "subject_age: list[str] = column_values(data_rows, \"subject_age\")\n",
    "\n",
    "if len(subject_age) == 0:\n",
    "    print(\"Complete your implementation of column_values in data_utils.py\")\n",
    "    print(\"Be sure to follow the guidelines above and save your work before re-evaluating!\")\n",
    "else:\n",
    "    print(f\"Column 'subject_age' has {len(subject_age)} values.\")\n",
    "    print(\"The first five values are:\")\n",
    "    for i in range(5):\n",
    "        print(subject_age[i])"
   ]
  },
  {
   "cell_type": "markdown",
   "metadata": {},
   "source": [
    "### 0.2) `columnar` Function\n",
    "\n",
    "Review this function in `data_utils.py`.\n",
    "\n",
    "Purpose: _Transform_ a table represented as a list of rows (e.g. `list[dict[str, str]]`) into one represented as a dictionary of columns (e.g. `dict[str, list[str]]`).\n",
    "\n",
    "Why is this function useful? Many types of analysis are much easier to perform column-wise.\n",
    "\n",
    "Implementation strategy: Establish an empty dictionary to the your column-oriented table you are building up to ultimately return. Loop through each of the column names in the first row of the parameter. Get a list of each column's values via your `column_values` function defined previously. Then, associate the column name with the list of its values in the dictionary you established. After looping through every column name, return the dictionary."
   ]
  },
  {
   "cell_type": "code",
   "execution_count": 5,
   "metadata": {},
   "outputs": [
    {
     "output_type": "stream",
     "name": "stdout",
     "text": [
      "29 columns\n348 rows\nColumns names: dict_keys(['raw_row_number', 'date', 'time', 'location', 'county_name', 'subject_age', 'subject_race', 'subject_sex', 'officer_id_hash', 'department_name', 'type', 'arrest_made', 'citation_issued', 'warning_issued', 'outcome', 'contraband_found', 'contraband_drugs', 'contraband_weapons', 'frisk_performed', 'search_conducted', 'search_person', 'search_vehicle', 'search_basis', 'reason_for_frisk', 'reason_for_search', 'reason_for_stop', 'raw_Ethnicity', 'raw_Race', 'raw_action_description'])\n"
     ]
    }
   ],
   "source": [
    "from data_utils import columnar\n",
    "\n",
    "data_cols: dict[str, list[str]] = columnar(data_rows)\n",
    "\n",
    "if len(data_cols.keys()) == 0:\n",
    "    print(\"Complete your implementation of columnar in data_utils.py\")\n",
    "    print(\"Be sure to follow the guidelines above and save your work before re-evaluating!\")\n",
    "else:\n",
    "    print(f\"{len(data_cols.keys())} columns\")\n",
    "    print(f\"{len(data_cols['subject_age'])} rows\")\n",
    "    print(f\"Columns names: {data_cols.keys()}\")"
   ]
  },
  {
   "cell_type": "markdown",
   "metadata": {},
   "source": [
    "## Part 1. Selecting (\"narrowing down\") a Data Table\n",
    "\n",
    "When working with a data set, it is useful to inspect the contents of the table you are working with in order to both be convinced your analysis is on the correct path and to know what steps to take next with specific column names or values.\n",
    "\n",
    "In this part of the exercise, you will write some useful utility functions to view the first `N` rows of a column-based table (a function named `head`, referring to the top rows of a table) and another function `select` for producing a simpler data table with only the subset of original columns you care about.\n",
    "\n",
    "### Displaying Tabular data with the `tabulate` 3rd Party Library\n",
    "\n",
    "Reading Python's `str` representations of tabular data, in either representation strategy we used above (list of rows vs. dict of cols), is uncomprehensible for data wrangling. This kind of problem is so common a 3rd party library called `tabulate` is commonly used to produce tables in Jupyter Notebooks. This library was was included in your workspace's `requirements.txt` file at the beginning of the semester, so you should already have it installed!\n",
    "\n",
    "For a quick demonstration of how the `tabulate` library works, consider this simple demo below. You should be able to evaluate it as is without any further changes and see the tabular representation appear."
   ]
  },
  {
   "cell_type": "code",
   "execution_count": 6,
   "metadata": {},
   "outputs": [
    {
     "output_type": "execute_result",
     "data": {
      "text/plain": [
       "'<table>\\n<thead>\\n<tr><th>school  </th><th>mascot         </th><th style=\"text-align: right;\">  founded</th></tr>\\n</thead>\\n<tbody>\\n<tr><td>UNC     </td><td>Rameses        </td><td style=\"text-align: right;\">     1789</td></tr>\\n<tr><td>NCSU    </td><td>Wolf           </td><td style=\"text-align: right;\">     1887</td></tr>\\n<tr><td>Duke    </td><td>A Literal Devil</td><td style=\"text-align: right;\">     1838</td></tr>\\n</tbody>\\n</table>'"
      ],
      "text/html": "<table>\n<thead>\n<tr><th>school  </th><th>mascot         </th><th style=\"text-align: right;\">  founded</th></tr>\n</thead>\n<tbody>\n<tr><td>UNC     </td><td>Rameses        </td><td style=\"text-align: right;\">     1789</td></tr>\n<tr><td>NCSU    </td><td>Wolf           </td><td style=\"text-align: right;\">     1887</td></tr>\n<tr><td>Duke    </td><td>A Literal Devil</td><td style=\"text-align: right;\">     1838</td></tr>\n</tbody>\n</table>"
     },
     "metadata": {},
     "execution_count": 6
    }
   ],
   "source": [
    "from tabulate import tabulate\n",
    "\n",
    "universities: dict[str, list[str, str]] = {\"school\": [\"UNC\", \"NCSU\", \"Duke\"], \"mascot\": [\"Rameses\", \"Wolf\", \"A Literal Devil\"], \"founded\": [\"1789\", \"1887\", \"1838\"]}\n",
    "\n",
    "tabulate(universities, universities.keys(), \"html\")"
   ]
  },
  {
   "cell_type": "markdown",
   "metadata": {},
   "source": [
    "### 1.0) `head` Function\n",
    "\n",
    "Review this function in `data_utils.py`.\n",
    "\n",
    "Purpose: Produce a new column-based (e.g. `dict[str, list[str]]`) table with only the first `N` (a parameter) rows of data for each column.\n",
    "\n",
    "Why: Visualizing a table with hundreds, thousands, or millions of rows in it is overwhelming. You frequently want to just see the first few rows of a table to get a sense you are on the correct path.\n",
    "\n",
    "Implementation strategy: \n",
    "\n",
    "1. Establish an empty dictionary that will serve as the returned dictionary this function is building up. \n",
    "2. Loop through each of the columns in the first row of the table given as a parameter. \n",
    "    1. Inside of the loop, establish an empty list to store each of the first N values in the column. \n",
    "    2. Loop through the first N items of the table's column, \n",
    "        1. Appending each item to the previously list established in step 2.1. \n",
    "    3. Assign the produced list of column values to the dictionary established in step 1.\n",
    "3. Return the dictionary.\n",
    "\n",
    "Once you have correctly implemented this function and saved your work, you should be able to evaluate the cell below and see the first five rows of the data table presented."
   ]
  },
  {
   "cell_type": "code",
   "execution_count": 7,
   "metadata": {},
   "outputs": [
    {
     "output_type": "execute_result",
     "data": {
      "text/plain": [
       "'<table>\\n<thead>\\n<tr><th style=\"text-align: right;\">  raw_row_number</th><th>date      </th><th>time    </th><th>location          </th><th>county_name  </th><th style=\"text-align: right;\">  subject_age</th><th>subject_race  </th><th>subject_sex  </th><th>officer_id_hash  </th><th>department_name         </th><th>type     </th><th>arrest_made  </th><th>citation_issued  </th><th>warning_issued  </th><th>outcome  </th><th>contraband_found  </th><th>contraband_drugs  </th><th>contraband_weapons  </th><th>frisk_performed  </th><th>search_conducted  </th><th>search_person  </th><th>search_vehicle  </th><th>search_basis  </th><th>reason_for_frisk  </th><th>reason_for_search  </th><th>reason_for_stop             </th><th>raw_Ethnicity  </th><th>raw_Race  </th><th>raw_action_description  </th></tr>\\n</thead>\\n<tbody>\\n<tr><td style=\"text-align: right;\">        19179089</td><td>2015-03-21</td><td>20:01:00</td><td>nan, Durham County</td><td>Durham County</td><td style=\"text-align: right;\">           33</td><td>black         </td><td>female       </td><td>f6e97b759c       </td><td>Durham Police Department</td><td>vehicular</td><td>FALSE        </td><td>FALSE            </td><td>TRUE            </td><td>warning  </td><td>NA                </td><td>NA                </td><td>NA                  </td><td>FALSE            </td><td>FALSE             </td><td>FALSE          </td><td>FALSE           </td><td>NA            </td><td>NA                </td><td>NA                 </td><td>Vehicle Equipment Violation </td><td>N              </td><td>B         </td><td>Verbal Warning          </td></tr>\\n<tr><td style=\"text-align: right;\">        19179090</td><td>2015-03-21</td><td>11:40:00</td><td>nan, Durham County</td><td>Durham County</td><td style=\"text-align: right;\">           25</td><td>black         </td><td>female       </td><td>81f290e452       </td><td>Durham Police Department</td><td>vehicular</td><td>FALSE        </td><td>FALSE            </td><td>TRUE            </td><td>warning  </td><td>NA                </td><td>NA                </td><td>NA                  </td><td>FALSE            </td><td>FALSE             </td><td>FALSE          </td><td>FALSE           </td><td>NA            </td><td>NA                </td><td>NA                 </td><td>Stop Light/Sign Violation   </td><td>N              </td><td>B         </td><td>Verbal Warning          </td></tr>\\n<tr><td style=\"text-align: right;\">        19179459</td><td>2015-03-21</td><td>17:00:00</td><td>nan, Durham County</td><td>Durham County</td><td style=\"text-align: right;\">           26</td><td>black         </td><td>male         </td><td>5a6f9ebaec       </td><td>Durham Police Department</td><td>vehicular</td><td>FALSE        </td><td>TRUE             </td><td>FALSE           </td><td>citation </td><td>NA                </td><td>NA                </td><td>NA                  </td><td>FALSE            </td><td>FALSE             </td><td>FALSE          </td><td>FALSE           </td><td>NA            </td><td>NA                </td><td>NA                 </td><td>Vehicle Regulatory Violation</td><td>N              </td><td>B         </td><td>Citation Issued         </td></tr>\\n<tr><td style=\"text-align: right;\">        19180240</td><td>2015-03-21</td><td>19:19:00</td><td>nan, Durham County</td><td>Durham County</td><td style=\"text-align: right;\">           24</td><td>black         </td><td>female       </td><td>10e24a4093       </td><td>Durham Police Department</td><td>vehicular</td><td>FALSE        </td><td>FALSE            </td><td>TRUE            </td><td>warning  </td><td>NA                </td><td>NA                </td><td>NA                  </td><td>FALSE            </td><td>FALSE             </td><td>FALSE          </td><td>FALSE           </td><td>NA            </td><td>NA                </td><td>NA                 </td><td>Stop Light/Sign Violation   </td><td>N              </td><td>B         </td><td>Verbal Warning          </td></tr>\\n<tr><td style=\"text-align: right;\">        19180242</td><td>2015-03-21</td><td>20:16:00</td><td>nan, Durham County</td><td>Durham County</td><td style=\"text-align: right;\">           44</td><td>black         </td><td>male         </td><td>10e24a4093       </td><td>Durham Police Department</td><td>vehicular</td><td>FALSE        </td><td>FALSE            </td><td>TRUE            </td><td>warning  </td><td>NA                </td><td>NA                </td><td>NA                  </td><td>FALSE            </td><td>FALSE             </td><td>FALSE          </td><td>FALSE           </td><td>NA            </td><td>NA                </td><td>NA                 </td><td>Vehicle Equipment Violation </td><td>N              </td><td>B         </td><td>Verbal Warning          </td></tr>\\n</tbody>\\n</table>'"
      ],
      "text/html": "<table>\n<thead>\n<tr><th style=\"text-align: right;\">  raw_row_number</th><th>date      </th><th>time    </th><th>location          </th><th>county_name  </th><th style=\"text-align: right;\">  subject_age</th><th>subject_race  </th><th>subject_sex  </th><th>officer_id_hash  </th><th>department_name         </th><th>type     </th><th>arrest_made  </th><th>citation_issued  </th><th>warning_issued  </th><th>outcome  </th><th>contraband_found  </th><th>contraband_drugs  </th><th>contraband_weapons  </th><th>frisk_performed  </th><th>search_conducted  </th><th>search_person  </th><th>search_vehicle  </th><th>search_basis  </th><th>reason_for_frisk  </th><th>reason_for_search  </th><th>reason_for_stop             </th><th>raw_Ethnicity  </th><th>raw_Race  </th><th>raw_action_description  </th></tr>\n</thead>\n<tbody>\n<tr><td style=\"text-align: right;\">        19179089</td><td>2015-03-21</td><td>20:01:00</td><td>nan, Durham County</td><td>Durham County</td><td style=\"text-align: right;\">           33</td><td>black         </td><td>female       </td><td>f6e97b759c       </td><td>Durham Police Department</td><td>vehicular</td><td>FALSE        </td><td>FALSE            </td><td>TRUE            </td><td>warning  </td><td>NA                </td><td>NA                </td><td>NA                  </td><td>FALSE            </td><td>FALSE             </td><td>FALSE          </td><td>FALSE           </td><td>NA            </td><td>NA                </td><td>NA                 </td><td>Vehicle Equipment Violation </td><td>N              </td><td>B         </td><td>Verbal Warning          </td></tr>\n<tr><td style=\"text-align: right;\">        19179090</td><td>2015-03-21</td><td>11:40:00</td><td>nan, Durham County</td><td>Durham County</td><td style=\"text-align: right;\">           25</td><td>black         </td><td>female       </td><td>81f290e452       </td><td>Durham Police Department</td><td>vehicular</td><td>FALSE        </td><td>FALSE            </td><td>TRUE            </td><td>warning  </td><td>NA                </td><td>NA                </td><td>NA                  </td><td>FALSE            </td><td>FALSE             </td><td>FALSE          </td><td>FALSE           </td><td>NA            </td><td>NA                </td><td>NA                 </td><td>Stop Light/Sign Violation   </td><td>N              </td><td>B         </td><td>Verbal Warning          </td></tr>\n<tr><td style=\"text-align: right;\">        19179459</td><td>2015-03-21</td><td>17:00:00</td><td>nan, Durham County</td><td>Durham County</td><td style=\"text-align: right;\">           26</td><td>black         </td><td>male         </td><td>5a6f9ebaec       </td><td>Durham Police Department</td><td>vehicular</td><td>FALSE        </td><td>TRUE             </td><td>FALSE           </td><td>citation </td><td>NA                </td><td>NA                </td><td>NA                  </td><td>FALSE            </td><td>FALSE             </td><td>FALSE          </td><td>FALSE           </td><td>NA            </td><td>NA                </td><td>NA                 </td><td>Vehicle Regulatory Violation</td><td>N              </td><td>B         </td><td>Citation Issued         </td></tr>\n<tr><td style=\"text-align: right;\">        19180240</td><td>2015-03-21</td><td>19:19:00</td><td>nan, Durham County</td><td>Durham County</td><td style=\"text-align: right;\">           24</td><td>black         </td><td>female       </td><td>10e24a4093       </td><td>Durham Police Department</td><td>vehicular</td><td>FALSE        </td><td>FALSE            </td><td>TRUE            </td><td>warning  </td><td>NA                </td><td>NA                </td><td>NA                  </td><td>FALSE            </td><td>FALSE             </td><td>FALSE          </td><td>FALSE           </td><td>NA            </td><td>NA                </td><td>NA                 </td><td>Stop Light/Sign Violation   </td><td>N              </td><td>B         </td><td>Verbal Warning          </td></tr>\n<tr><td style=\"text-align: right;\">        19180242</td><td>2015-03-21</td><td>20:16:00</td><td>nan, Durham County</td><td>Durham County</td><td style=\"text-align: right;\">           44</td><td>black         </td><td>male         </td><td>10e24a4093       </td><td>Durham Police Department</td><td>vehicular</td><td>FALSE        </td><td>FALSE            </td><td>TRUE            </td><td>warning  </td><td>NA                </td><td>NA                </td><td>NA                  </td><td>FALSE            </td><td>FALSE             </td><td>FALSE          </td><td>FALSE           </td><td>NA            </td><td>NA                </td><td>NA                 </td><td>Vehicle Equipment Violation </td><td>N              </td><td>B         </td><td>Verbal Warning          </td></tr>\n</tbody>\n</table>"
     },
     "metadata": {},
     "execution_count": 7
    }
   ],
   "source": [
    "from data_utils import head\n",
    "\n",
    "data_cols_head: dict[str, list[str]] = head(data_cols, 5)\n",
    "\n",
    "if len(data_cols_head.keys()) != len(data_cols.keys()) or len(data_cols_head[\"subject_age\"]) != 5:\n",
    "    print(\"Complete your implementation of columnar in data_utils.py\")\n",
    "    print(\"Be sure to follow the guidelines above and save your work before re-evaluating!\")\n",
    "\n",
    "tabulate(data_cols_head, data_cols_head.keys(), \"html\")"
   ]
  },
  {
   "cell_type": "markdown",
   "metadata": {},
   "source": [
    "## 1.1) `select` Function\n",
    "\n",
    "Review this function in `data_utils.py`.\n",
    "\n",
    "Purpose: Produce a new column-based (e.g. `dict[str, list[str]]`) table with only a specific subset of the original columns.\n",
    "\n",
    "Why: Many data tables will contain many columns that are not related to the analysis you are trying to perform. _Selecting_ only the columns you care about makes it easier to focus your attention on the problem at hand.\n",
    "\n",
    "Implementation strategy:\n",
    "\n",
    "1. Establish an empty dictionary that will serve as the returned dictionary this function is building up.\n",
    "2. Loop through each of the columns _in the second parameter of the function_\n",
    "    1. Assign to the column key of the result dictionary the list of values stored in the input dictionary at the same column\n",
    "3. Return the dictionary produced\n",
    "\n",
    "Once you have correctly implemented this function, you can run the cell below to visualize the first 10 rows of the table and should only see 2 columns: `subject_race`, `subject_sex`."
   ]
  },
  {
   "cell_type": "code",
   "execution_count": 8,
   "metadata": {},
   "outputs": [
    {
     "output_type": "execute_result",
     "data": {
      "text/plain": [
       "'<table>\\n<thead>\\n<tr><th>subject_race  </th><th>subject_sex  </th></tr>\\n</thead>\\n<tbody>\\n<tr><td>black         </td><td>female       </td></tr>\\n<tr><td>black         </td><td>female       </td></tr>\\n<tr><td>black         </td><td>male         </td></tr>\\n<tr><td>black         </td><td>female       </td></tr>\\n<tr><td>black         </td><td>male         </td></tr>\\n<tr><td>black         </td><td>female       </td></tr>\\n<tr><td>black         </td><td>male         </td></tr>\\n<tr><td>black         </td><td>male         </td></tr>\\n<tr><td>white         </td><td>male         </td></tr>\\n<tr><td>black         </td><td>male         </td></tr>\\n</tbody>\\n</table>'"
      ],
      "text/html": "<table>\n<thead>\n<tr><th>subject_race  </th><th>subject_sex  </th></tr>\n</thead>\n<tbody>\n<tr><td>black         </td><td>female       </td></tr>\n<tr><td>black         </td><td>female       </td></tr>\n<tr><td>black         </td><td>male         </td></tr>\n<tr><td>black         </td><td>female       </td></tr>\n<tr><td>black         </td><td>male         </td></tr>\n<tr><td>black         </td><td>female       </td></tr>\n<tr><td>black         </td><td>male         </td></tr>\n<tr><td>black         </td><td>male         </td></tr>\n<tr><td>white         </td><td>male         </td></tr>\n<tr><td>black         </td><td>male         </td></tr>\n</tbody>\n</table>"
     },
     "metadata": {},
     "execution_count": 8
    }
   ],
   "source": [
    "from data_utils import select\n",
    "\n",
    "selected_data: dict[str, list[str]] = select(data_cols, [\"subject_race\", \"subject_sex\"])\n",
    "\n",
    "tabulate(head(selected_data, 10), selected_data.keys(), \"html\")"
   ]
  },
  {
   "cell_type": "markdown",
   "metadata": {},
   "source": [
    "## Part 2. Simple Analysis\n",
    "\n",
    "Now that you have some functions to read, transform, and select your data, let's perform some simple analysis! With categorical data, _counting_ the frequency of values is a common first step toward getting an overview of the column.\n",
    "\n",
    "### 2.0) `count` Function\n",
    "\n",
    "Given a `list[str]`, this function will produce a `dict[str, int]` where each key is a unique value in the given list and each value associated is the _count_ of the number of times that value appeared in the input list.\n",
    "\n",
    "* Function name: `count`\n",
    "* Parameter: `list[str]` - list of values to count the frequencies of\n",
    "* Return Type: `dict[str, int]` - a dictionary of the counts of each of the items in the input list\n",
    "\n",
    "Implementation strategy:\n",
    "\n",
    "1. Establish an empty dictionary to store your built-up result in\n",
    "2. Loop through each item in the input list\n",
    "    1. Check to see if that item has already been established as a key in your dictionary. Try the following boolean conditional: `if <item> in <dict>:` -- replacing `<item>` with the variable name of the current value and `<dict>` with the name of your result dictionary.\n",
    "    2. If the item is found in the dict, that means there is already a key/value pair where the item is a key. Increase the value associated with that key by 1 (counting it!)\n",
    "    3. If the item is not found in the dict, that means this is the first time you are encountering the value and should assign an initial count of `1` to that key in the result dictionary.\n",
    "3. Return the resulting dictionary.\n",
    "\n",
    "After you complete this function, you should see the following counts with the included data set when you evaluate the cell below:\n",
    "\n",
    "~~~\n",
    "race_counts: {'black': 221, 'white': 79, 'hispanic': 42, 'asian/pacific islander': 4, 'other': 1, 'unknown': 1}\n",
    "sex_counts: {'female': 129, 'male': 219}\n",
    "~~~"
   ]
  },
  {
   "cell_type": "code",
   "execution_count": 9,
   "metadata": {},
   "outputs": [
    {
     "output_type": "stream",
     "name": "stdout",
     "text": [
      "race_counts: {'black': 221, 'white': 79, 'hispanic': 42, 'asian/pacific islander': 4, 'other': 1, 'unknown': 1}\nsex_counts: {'female': 129, 'male': 219}\n"
     ]
    }
   ],
   "source": [
    "from data_utils import count\n",
    "\n",
    "race_counts: dict[str, int] = count(selected_data[\"subject_race\"])\n",
    "print(f\"race_counts: {race_counts}\")\n",
    "\n",
    "sex_counts: dict[str, int] = count(selected_data[\"subject_sex\"])\n",
    "print(f\"sex_counts: {sex_counts}\")"
   ]
  },
  {
   "cell_type": "markdown",
   "metadata": {},
   "source": [
    "## Bonus Content: Charting with `matplotlib`\n",
    "\n",
    "Once you have completed the functions above, you have completed the requirements of this exercise. However, you should go ahead and read the code in the cell below and try evaluating it for a fun surprise.\n",
    "\n",
    "In these cells, we are taking the data from the counts you produced in the cell above and producing bar charts using the popular `matplotlib` 3rd party visualization library. The exact details of what each line does is beyond the scope of your concerns, but I'll bet you can reason through it!"
   ]
  },
  {
   "cell_type": "code",
   "execution_count": 11,
   "metadata": {},
   "outputs": [
    {
     "output_type": "execute_result",
     "data": {
      "text/plain": [
       "<BarContainer object of 2 artists>"
      ]
     },
     "metadata": {},
     "execution_count": 11
    },
    {
     "output_type": "display_data",
     "data": {
      "text/plain": "<Figure size 864x360 with 2 Axes>",
      "image/svg+xml": "<?xml version=\"1.0\" encoding=\"utf-8\" standalone=\"no\"?>\n<!DOCTYPE svg PUBLIC \"-//W3C//DTD SVG 1.1//EN\"\n  \"http://www.w3.org/Graphics/SVG/1.1/DTD/svg11.dtd\">\n<svg height=\"410.658701pt\" version=\"1.1\" viewBox=\"0 0 710.0875 410.658701\" width=\"710.0875pt\" xmlns=\"http://www.w3.org/2000/svg\" xmlns:xlink=\"http://www.w3.org/1999/xlink\">\n <metadata>\n  <rdf:RDF xmlns:cc=\"http://creativecommons.org/ns#\" xmlns:dc=\"http://purl.org/dc/elements/1.1/\" xmlns:rdf=\"http://www.w3.org/1999/02/22-rdf-syntax-ns#\">\n   <cc:Work>\n    <dc:type rdf:resource=\"http://purl.org/dc/dcmitype/StillImage\"/>\n    <dc:date>2021-06-06T19:15:51.782920</dc:date>\n    <dc:format>image/svg+xml</dc:format>\n    <dc:creator>\n     <cc:Agent>\n      <dc:title>Matplotlib v3.4.2, https://matplotlib.org/</dc:title>\n     </cc:Agent>\n    </dc:creator>\n   </cc:Work>\n  </rdf:RDF>\n </metadata>\n <defs>\n  <style type=\"text/css\">*{stroke-linecap:butt;stroke-linejoin:round;}</style>\n </defs>\n <g id=\"figure_1\">\n  <g id=\"patch_1\">\n   <path d=\"M 0 410.658701 \nL 710.0875 410.658701 \nL 710.0875 0 \nL 0 0 \nz\n\" style=\"fill:none;\"/>\n  </g>\n  <g id=\"axes_1\">\n   <g id=\"patch_2\">\n    <path d=\"M 33.2875 315 \nL 337.651136 315 \nL 337.651136 43.2 \nL 33.2875 43.2 \nz\n\" style=\"fill:#ffffff;\"/>\n   </g>\n   <g id=\"patch_3\">\n    <path clip-path=\"url(#p22ad58ce3e)\" d=\"M 47.122211 315 \nL 85.28693 315 \nL 85.28693 56.142857 \nL 47.122211 56.142857 \nz\n\" style=\"fill:#1f77b4;\"/>\n   </g>\n   <g id=\"patch_4\">\n    <path clip-path=\"url(#p22ad58ce3e)\" d=\"M 94.82811 315 \nL 132.992829 315 \nL 132.992829 222.467356 \nL 94.82811 222.467356 \nz\n\" style=\"fill:#1f77b4;\"/>\n   </g>\n   <g id=\"patch_5\">\n    <path clip-path=\"url(#p22ad58ce3e)\" d=\"M 142.534009 315 \nL 180.698728 315 \nL 180.698728 265.80543 \nL 142.534009 265.80543 \nz\n\" style=\"fill:#1f77b4;\"/>\n   </g>\n   <g id=\"patch_6\">\n    <path clip-path=\"url(#p22ad58ce3e)\" d=\"M 190.239908 315 \nL 228.404627 315 \nL 228.404627 310.314803 \nL 190.239908 310.314803 \nz\n\" style=\"fill:#1f77b4;\"/>\n   </g>\n   <g id=\"patch_7\">\n    <path clip-path=\"url(#p22ad58ce3e)\" d=\"M 237.945807 315 \nL 276.110527 315 \nL 276.110527 313.828701 \nL 237.945807 313.828701 \nz\n\" style=\"fill:#1f77b4;\"/>\n   </g>\n   <g id=\"patch_8\">\n    <path clip-path=\"url(#p22ad58ce3e)\" d=\"M 285.651706 315 \nL 323.816426 315 \nL 323.816426 313.828701 \nL 285.651706 313.828701 \nz\n\" style=\"fill:#1f77b4;\"/>\n   </g>\n   <g id=\"matplotlib.axis_1\">\n    <g id=\"xtick_1\">\n     <g id=\"line2d_1\">\n      <defs>\n       <path d=\"M 0 0 \nL 0 3.5 \n\" id=\"m6716c7442a\" style=\"stroke:#000000;stroke-width:0.8;\"/>\n      </defs>\n      <g>\n       <use style=\"stroke:#000000;stroke-width:0.8;\" x=\"66.20457\" xlink:href=\"#m6716c7442a\" y=\"315\"/>\n      </g>\n     </g>\n     <g id=\"text_1\">\n      <!-- black -->\n      <g transform=\"translate(58.77111 346.142172)rotate(-45)scale(0.1 -0.1)\">\n       <defs>\n        <path d=\"M 3116 1747 \nQ 3116 2381 2855 2742 \nQ 2594 3103 2138 3103 \nQ 1681 3103 1420 2742 \nQ 1159 2381 1159 1747 \nQ 1159 1113 1420 752 \nQ 1681 391 2138 391 \nQ 2594 391 2855 752 \nQ 3116 1113 3116 1747 \nz\nM 1159 2969 \nQ 1341 3281 1617 3432 \nQ 1894 3584 2278 3584 \nQ 2916 3584 3314 3078 \nQ 3713 2572 3713 1747 \nQ 3713 922 3314 415 \nQ 2916 -91 2278 -91 \nQ 1894 -91 1617 61 \nQ 1341 213 1159 525 \nL 1159 0 \nL 581 0 \nL 581 4863 \nL 1159 4863 \nL 1159 2969 \nz\n\" id=\"DejaVuSans-62\" transform=\"scale(0.015625)\"/>\n        <path d=\"M 603 4863 \nL 1178 4863 \nL 1178 0 \nL 603 0 \nL 603 4863 \nz\n\" id=\"DejaVuSans-6c\" transform=\"scale(0.015625)\"/>\n        <path d=\"M 2194 1759 \nQ 1497 1759 1228 1600 \nQ 959 1441 959 1056 \nQ 959 750 1161 570 \nQ 1363 391 1709 391 \nQ 2188 391 2477 730 \nQ 2766 1069 2766 1631 \nL 2766 1759 \nL 2194 1759 \nz\nM 3341 1997 \nL 3341 0 \nL 2766 0 \nL 2766 531 \nQ 2569 213 2275 61 \nQ 1981 -91 1556 -91 \nQ 1019 -91 701 211 \nQ 384 513 384 1019 \nQ 384 1609 779 1909 \nQ 1175 2209 1959 2209 \nL 2766 2209 \nL 2766 2266 \nQ 2766 2663 2505 2880 \nQ 2244 3097 1772 3097 \nQ 1472 3097 1187 3025 \nQ 903 2953 641 2809 \nL 641 3341 \nQ 956 3463 1253 3523 \nQ 1550 3584 1831 3584 \nQ 2591 3584 2966 3190 \nQ 3341 2797 3341 1997 \nz\n\" id=\"DejaVuSans-61\" transform=\"scale(0.015625)\"/>\n        <path d=\"M 3122 3366 \nL 3122 2828 \nQ 2878 2963 2633 3030 \nQ 2388 3097 2138 3097 \nQ 1578 3097 1268 2742 \nQ 959 2388 959 1747 \nQ 959 1106 1268 751 \nQ 1578 397 2138 397 \nQ 2388 397 2633 464 \nQ 2878 531 3122 666 \nL 3122 134 \nQ 2881 22 2623 -34 \nQ 2366 -91 2075 -91 \nQ 1284 -91 818 406 \nQ 353 903 353 1747 \nQ 353 2603 823 3093 \nQ 1294 3584 2113 3584 \nQ 2378 3584 2631 3529 \nQ 2884 3475 3122 3366 \nz\n\" id=\"DejaVuSans-63\" transform=\"scale(0.015625)\"/>\n        <path d=\"M 581 4863 \nL 1159 4863 \nL 1159 1991 \nL 2875 3500 \nL 3609 3500 \nL 1753 1863 \nL 3688 0 \nL 2938 0 \nL 1159 1709 \nL 1159 0 \nL 581 0 \nL 581 4863 \nz\n\" id=\"DejaVuSans-6b\" transform=\"scale(0.015625)\"/>\n       </defs>\n       <use xlink:href=\"#DejaVuSans-62\"/>\n       <use x=\"63.476562\" xlink:href=\"#DejaVuSans-6c\"/>\n       <use x=\"91.259766\" xlink:href=\"#DejaVuSans-61\"/>\n       <use x=\"152.539062\" xlink:href=\"#DejaVuSans-63\"/>\n       <use x=\"207.519531\" xlink:href=\"#DejaVuSans-6b\"/>\n      </g>\n     </g>\n    </g>\n    <g id=\"xtick_2\">\n     <g id=\"line2d_2\">\n      <g>\n       <use style=\"stroke:#000000;stroke-width:0.8;\" x=\"113.91047\" xlink:href=\"#m6716c7442a\" y=\"315\"/>\n      </g>\n     </g>\n     <g id=\"text_2\">\n      <!-- white -->\n      <g transform=\"translate(106.18588 346.724431)rotate(-45)scale(0.1 -0.1)\">\n       <defs>\n        <path d=\"M 269 3500 \nL 844 3500 \nL 1563 769 \nL 2278 3500 \nL 2956 3500 \nL 3675 769 \nL 4391 3500 \nL 4966 3500 \nL 4050 0 \nL 3372 0 \nL 2619 2869 \nL 1863 0 \nL 1184 0 \nL 269 3500 \nz\n\" id=\"DejaVuSans-77\" transform=\"scale(0.015625)\"/>\n        <path d=\"M 3513 2113 \nL 3513 0 \nL 2938 0 \nL 2938 2094 \nQ 2938 2591 2744 2837 \nQ 2550 3084 2163 3084 \nQ 1697 3084 1428 2787 \nQ 1159 2491 1159 1978 \nL 1159 0 \nL 581 0 \nL 581 4863 \nL 1159 4863 \nL 1159 2956 \nQ 1366 3272 1645 3428 \nQ 1925 3584 2291 3584 \nQ 2894 3584 3203 3211 \nQ 3513 2838 3513 2113 \nz\n\" id=\"DejaVuSans-68\" transform=\"scale(0.015625)\"/>\n        <path d=\"M 603 3500 \nL 1178 3500 \nL 1178 0 \nL 603 0 \nL 603 3500 \nz\nM 603 4863 \nL 1178 4863 \nL 1178 4134 \nL 603 4134 \nL 603 4863 \nz\n\" id=\"DejaVuSans-69\" transform=\"scale(0.015625)\"/>\n        <path d=\"M 1172 4494 \nL 1172 3500 \nL 2356 3500 \nL 2356 3053 \nL 1172 3053 \nL 1172 1153 \nQ 1172 725 1289 603 \nQ 1406 481 1766 481 \nL 2356 481 \nL 2356 0 \nL 1766 0 \nQ 1100 0 847 248 \nQ 594 497 594 1153 \nL 594 3053 \nL 172 3053 \nL 172 3500 \nL 594 3500 \nL 594 4494 \nL 1172 4494 \nz\n\" id=\"DejaVuSans-74\" transform=\"scale(0.015625)\"/>\n        <path d=\"M 3597 1894 \nL 3597 1613 \nL 953 1613 \nQ 991 1019 1311 708 \nQ 1631 397 2203 397 \nQ 2534 397 2845 478 \nQ 3156 559 3463 722 \nL 3463 178 \nQ 3153 47 2828 -22 \nQ 2503 -91 2169 -91 \nQ 1331 -91 842 396 \nQ 353 884 353 1716 \nQ 353 2575 817 3079 \nQ 1281 3584 2069 3584 \nQ 2775 3584 3186 3129 \nQ 3597 2675 3597 1894 \nz\nM 3022 2063 \nQ 3016 2534 2758 2815 \nQ 2500 3097 2075 3097 \nQ 1594 3097 1305 2825 \nQ 1016 2553 972 2059 \nL 3022 2063 \nz\n\" id=\"DejaVuSans-65\" transform=\"scale(0.015625)\"/>\n       </defs>\n       <use xlink:href=\"#DejaVuSans-77\"/>\n       <use x=\"81.787109\" xlink:href=\"#DejaVuSans-68\"/>\n       <use x=\"145.166016\" xlink:href=\"#DejaVuSans-69\"/>\n       <use x=\"172.949219\" xlink:href=\"#DejaVuSans-74\"/>\n       <use x=\"212.158203\" xlink:href=\"#DejaVuSans-65\"/>\n      </g>\n     </g>\n    </g>\n    <g id=\"xtick_3\">\n     <g id=\"line2d_3\">\n      <g>\n       <use style=\"stroke:#000000;stroke-width:0.8;\" x=\"161.616369\" xlink:href=\"#m6716c7442a\" y=\"315\"/>\n      </g>\n     </g>\n     <g id=\"text_3\">\n      <!-- hispanic -->\n      <g transform=\"translate(148.924907 356.658176)rotate(-45)scale(0.1 -0.1)\">\n       <defs>\n        <path d=\"M 2834 3397 \nL 2834 2853 \nQ 2591 2978 2328 3040 \nQ 2066 3103 1784 3103 \nQ 1356 3103 1142 2972 \nQ 928 2841 928 2578 \nQ 928 2378 1081 2264 \nQ 1234 2150 1697 2047 \nL 1894 2003 \nQ 2506 1872 2764 1633 \nQ 3022 1394 3022 966 \nQ 3022 478 2636 193 \nQ 2250 -91 1575 -91 \nQ 1294 -91 989 -36 \nQ 684 19 347 128 \nL 347 722 \nQ 666 556 975 473 \nQ 1284 391 1588 391 \nQ 1994 391 2212 530 \nQ 2431 669 2431 922 \nQ 2431 1156 2273 1281 \nQ 2116 1406 1581 1522 \nL 1381 1569 \nQ 847 1681 609 1914 \nQ 372 2147 372 2553 \nQ 372 3047 722 3315 \nQ 1072 3584 1716 3584 \nQ 2034 3584 2315 3537 \nQ 2597 3491 2834 3397 \nz\n\" id=\"DejaVuSans-73\" transform=\"scale(0.015625)\"/>\n        <path d=\"M 1159 525 \nL 1159 -1331 \nL 581 -1331 \nL 581 3500 \nL 1159 3500 \nL 1159 2969 \nQ 1341 3281 1617 3432 \nQ 1894 3584 2278 3584 \nQ 2916 3584 3314 3078 \nQ 3713 2572 3713 1747 \nQ 3713 922 3314 415 \nQ 2916 -91 2278 -91 \nQ 1894 -91 1617 61 \nQ 1341 213 1159 525 \nz\nM 3116 1747 \nQ 3116 2381 2855 2742 \nQ 2594 3103 2138 3103 \nQ 1681 3103 1420 2742 \nQ 1159 2381 1159 1747 \nQ 1159 1113 1420 752 \nQ 1681 391 2138 391 \nQ 2594 391 2855 752 \nQ 3116 1113 3116 1747 \nz\n\" id=\"DejaVuSans-70\" transform=\"scale(0.015625)\"/>\n        <path d=\"M 3513 2113 \nL 3513 0 \nL 2938 0 \nL 2938 2094 \nQ 2938 2591 2744 2837 \nQ 2550 3084 2163 3084 \nQ 1697 3084 1428 2787 \nQ 1159 2491 1159 1978 \nL 1159 0 \nL 581 0 \nL 581 3500 \nL 1159 3500 \nL 1159 2956 \nQ 1366 3272 1645 3428 \nQ 1925 3584 2291 3584 \nQ 2894 3584 3203 3211 \nQ 3513 2838 3513 2113 \nz\n\" id=\"DejaVuSans-6e\" transform=\"scale(0.015625)\"/>\n       </defs>\n       <use xlink:href=\"#DejaVuSans-68\"/>\n       <use x=\"63.378906\" xlink:href=\"#DejaVuSans-69\"/>\n       <use x=\"91.162109\" xlink:href=\"#DejaVuSans-73\"/>\n       <use x=\"143.261719\" xlink:href=\"#DejaVuSans-70\"/>\n       <use x=\"206.738281\" xlink:href=\"#DejaVuSans-61\"/>\n       <use x=\"268.017578\" xlink:href=\"#DejaVuSans-6e\"/>\n       <use x=\"331.396484\" xlink:href=\"#DejaVuSans-69\"/>\n       <use x=\"359.179688\" xlink:href=\"#DejaVuSans-63\"/>\n      </g>\n     </g>\n    </g>\n    <g id=\"xtick_4\">\n     <g id=\"line2d_4\">\n      <g>\n       <use style=\"stroke:#000000;stroke-width:0.8;\" x=\"209.322268\" xlink:href=\"#m6716c7442a\" y=\"315\"/>\n      </g>\n     </g>\n     <g id=\"text_4\">\n      <!-- asian/pacific islander -->\n      <g transform=\"translate(173.965824 401.98814)rotate(-45)scale(0.1 -0.1)\">\n       <defs>\n        <path d=\"M 1625 4666 \nL 2156 4666 \nL 531 -594 \nL 0 -594 \nL 1625 4666 \nz\n\" id=\"DejaVuSans-2f\" transform=\"scale(0.015625)\"/>\n        <path d=\"M 2375 4863 \nL 2375 4384 \nL 1825 4384 \nQ 1516 4384 1395 4259 \nQ 1275 4134 1275 3809 \nL 1275 3500 \nL 2222 3500 \nL 2222 3053 \nL 1275 3053 \nL 1275 0 \nL 697 0 \nL 697 3053 \nL 147 3053 \nL 147 3500 \nL 697 3500 \nL 697 3744 \nQ 697 4328 969 4595 \nQ 1241 4863 1831 4863 \nL 2375 4863 \nz\n\" id=\"DejaVuSans-66\" transform=\"scale(0.015625)\"/>\n        <path id=\"DejaVuSans-20\" transform=\"scale(0.015625)\"/>\n        <path d=\"M 2906 2969 \nL 2906 4863 \nL 3481 4863 \nL 3481 0 \nL 2906 0 \nL 2906 525 \nQ 2725 213 2448 61 \nQ 2172 -91 1784 -91 \nQ 1150 -91 751 415 \nQ 353 922 353 1747 \nQ 353 2572 751 3078 \nQ 1150 3584 1784 3584 \nQ 2172 3584 2448 3432 \nQ 2725 3281 2906 2969 \nz\nM 947 1747 \nQ 947 1113 1208 752 \nQ 1469 391 1925 391 \nQ 2381 391 2643 752 \nQ 2906 1113 2906 1747 \nQ 2906 2381 2643 2742 \nQ 2381 3103 1925 3103 \nQ 1469 3103 1208 2742 \nQ 947 2381 947 1747 \nz\n\" id=\"DejaVuSans-64\" transform=\"scale(0.015625)\"/>\n        <path d=\"M 2631 2963 \nQ 2534 3019 2420 3045 \nQ 2306 3072 2169 3072 \nQ 1681 3072 1420 2755 \nQ 1159 2438 1159 1844 \nL 1159 0 \nL 581 0 \nL 581 3500 \nL 1159 3500 \nL 1159 2956 \nQ 1341 3275 1631 3429 \nQ 1922 3584 2338 3584 \nQ 2397 3584 2469 3576 \nQ 2541 3569 2628 3553 \nL 2631 2963 \nz\n\" id=\"DejaVuSans-72\" transform=\"scale(0.015625)\"/>\n       </defs>\n       <use xlink:href=\"#DejaVuSans-61\"/>\n       <use x=\"61.279297\" xlink:href=\"#DejaVuSans-73\"/>\n       <use x=\"113.378906\" xlink:href=\"#DejaVuSans-69\"/>\n       <use x=\"141.162109\" xlink:href=\"#DejaVuSans-61\"/>\n       <use x=\"202.441406\" xlink:href=\"#DejaVuSans-6e\"/>\n       <use x=\"265.820312\" xlink:href=\"#DejaVuSans-2f\"/>\n       <use x=\"299.511719\" xlink:href=\"#DejaVuSans-70\"/>\n       <use x=\"362.988281\" xlink:href=\"#DejaVuSans-61\"/>\n       <use x=\"424.267578\" xlink:href=\"#DejaVuSans-63\"/>\n       <use x=\"479.248047\" xlink:href=\"#DejaVuSans-69\"/>\n       <use x=\"507.03125\" xlink:href=\"#DejaVuSans-66\"/>\n       <use x=\"542.236328\" xlink:href=\"#DejaVuSans-69\"/>\n       <use x=\"570.019531\" xlink:href=\"#DejaVuSans-63\"/>\n       <use x=\"625\" xlink:href=\"#DejaVuSans-20\"/>\n       <use x=\"656.787109\" xlink:href=\"#DejaVuSans-69\"/>\n       <use x=\"684.570312\" xlink:href=\"#DejaVuSans-73\"/>\n       <use x=\"736.669922\" xlink:href=\"#DejaVuSans-6c\"/>\n       <use x=\"764.453125\" xlink:href=\"#DejaVuSans-61\"/>\n       <use x=\"825.732422\" xlink:href=\"#DejaVuSans-6e\"/>\n       <use x=\"889.111328\" xlink:href=\"#DejaVuSans-64\"/>\n       <use x=\"952.587891\" xlink:href=\"#DejaVuSans-65\"/>\n       <use x=\"1014.111328\" xlink:href=\"#DejaVuSans-72\"/>\n      </g>\n     </g>\n    </g>\n    <g id=\"xtick_5\">\n     <g id=\"line2d_5\">\n      <g>\n       <use style=\"stroke:#000000;stroke-width:0.8;\" x=\"257.028167\" xlink:href=\"#m6716c7442a\" y=\"315\"/>\n      </g>\n     </g>\n     <g id=\"text_5\">\n      <!-- other -->\n      <g transform=\"translate(249.560456 346.210673)rotate(-45)scale(0.1 -0.1)\">\n       <defs>\n        <path d=\"M 1959 3097 \nQ 1497 3097 1228 2736 \nQ 959 2375 959 1747 \nQ 959 1119 1226 758 \nQ 1494 397 1959 397 \nQ 2419 397 2687 759 \nQ 2956 1122 2956 1747 \nQ 2956 2369 2687 2733 \nQ 2419 3097 1959 3097 \nz\nM 1959 3584 \nQ 2709 3584 3137 3096 \nQ 3566 2609 3566 1747 \nQ 3566 888 3137 398 \nQ 2709 -91 1959 -91 \nQ 1206 -91 779 398 \nQ 353 888 353 1747 \nQ 353 2609 779 3096 \nQ 1206 3584 1959 3584 \nz\n\" id=\"DejaVuSans-6f\" transform=\"scale(0.015625)\"/>\n       </defs>\n       <use xlink:href=\"#DejaVuSans-6f\"/>\n       <use x=\"61.181641\" xlink:href=\"#DejaVuSans-74\"/>\n       <use x=\"100.390625\" xlink:href=\"#DejaVuSans-68\"/>\n       <use x=\"163.769531\" xlink:href=\"#DejaVuSans-65\"/>\n       <use x=\"225.292969\" xlink:href=\"#DejaVuSans-72\"/>\n      </g>\n     </g>\n    </g>\n    <g id=\"xtick_6\">\n     <g id=\"line2d_6\">\n      <g>\n       <use style=\"stroke:#000000;stroke-width:0.8;\" x=\"304.734066\" xlink:href=\"#m6716c7442a\" y=\"315\"/>\n      </g>\n     </g>\n     <g id=\"text_6\">\n      <!-- unknown -->\n      <g transform=\"translate(290.620657 359.502071)rotate(-45)scale(0.1 -0.1)\">\n       <defs>\n        <path d=\"M 544 1381 \nL 544 3500 \nL 1119 3500 \nL 1119 1403 \nQ 1119 906 1312 657 \nQ 1506 409 1894 409 \nQ 2359 409 2629 706 \nQ 2900 1003 2900 1516 \nL 2900 3500 \nL 3475 3500 \nL 3475 0 \nL 2900 0 \nL 2900 538 \nQ 2691 219 2414 64 \nQ 2138 -91 1772 -91 \nQ 1169 -91 856 284 \nQ 544 659 544 1381 \nz\nM 1991 3584 \nL 1991 3584 \nz\n\" id=\"DejaVuSans-75\" transform=\"scale(0.015625)\"/>\n       </defs>\n       <use xlink:href=\"#DejaVuSans-75\"/>\n       <use x=\"63.378906\" xlink:href=\"#DejaVuSans-6e\"/>\n       <use x=\"126.757812\" xlink:href=\"#DejaVuSans-6b\"/>\n       <use x=\"184.667969\" xlink:href=\"#DejaVuSans-6e\"/>\n       <use x=\"248.046875\" xlink:href=\"#DejaVuSans-6f\"/>\n       <use x=\"309.228516\" xlink:href=\"#DejaVuSans-77\"/>\n       <use x=\"391.015625\" xlink:href=\"#DejaVuSans-6e\"/>\n      </g>\n     </g>\n    </g>\n   </g>\n   <g id=\"matplotlib.axis_2\">\n    <g id=\"ytick_1\">\n     <g id=\"line2d_7\">\n      <defs>\n       <path d=\"M 0 0 \nL -3.5 0 \n\" id=\"m6a8ed4b30d\" style=\"stroke:#000000;stroke-width:0.8;\"/>\n      </defs>\n      <g>\n       <use style=\"stroke:#000000;stroke-width:0.8;\" x=\"33.2875\" xlink:href=\"#m6a8ed4b30d\" y=\"315\"/>\n      </g>\n     </g>\n     <g id=\"text_7\">\n      <!-- 0 -->\n      <g transform=\"translate(19.925 318.799219)scale(0.1 -0.1)\">\n       <defs>\n        <path d=\"M 2034 4250 \nQ 1547 4250 1301 3770 \nQ 1056 3291 1056 2328 \nQ 1056 1369 1301 889 \nQ 1547 409 2034 409 \nQ 2525 409 2770 889 \nQ 3016 1369 3016 2328 \nQ 3016 3291 2770 3770 \nQ 2525 4250 2034 4250 \nz\nM 2034 4750 \nQ 2819 4750 3233 4129 \nQ 3647 3509 3647 2328 \nQ 3647 1150 3233 529 \nQ 2819 -91 2034 -91 \nQ 1250 -91 836 529 \nQ 422 1150 422 2328 \nQ 422 3509 836 4129 \nQ 1250 4750 2034 4750 \nz\n\" id=\"DejaVuSans-30\" transform=\"scale(0.015625)\"/>\n       </defs>\n       <use xlink:href=\"#DejaVuSans-30\"/>\n      </g>\n     </g>\n    </g>\n    <g id=\"ytick_2\">\n     <g id=\"line2d_8\">\n      <g>\n       <use style=\"stroke:#000000;stroke-width:0.8;\" x=\"33.2875\" xlink:href=\"#m6a8ed4b30d\" y=\"256.435036\"/>\n      </g>\n     </g>\n     <g id=\"text_8\">\n      <!-- 50 -->\n      <g transform=\"translate(13.5625 260.234254)scale(0.1 -0.1)\">\n       <defs>\n        <path d=\"M 691 4666 \nL 3169 4666 \nL 3169 4134 \nL 1269 4134 \nL 1269 2991 \nQ 1406 3038 1543 3061 \nQ 1681 3084 1819 3084 \nQ 2600 3084 3056 2656 \nQ 3513 2228 3513 1497 \nQ 3513 744 3044 326 \nQ 2575 -91 1722 -91 \nQ 1428 -91 1123 -41 \nQ 819 9 494 109 \nL 494 744 \nQ 775 591 1075 516 \nQ 1375 441 1709 441 \nQ 2250 441 2565 725 \nQ 2881 1009 2881 1497 \nQ 2881 1984 2565 2268 \nQ 2250 2553 1709 2553 \nQ 1456 2553 1204 2497 \nQ 953 2441 691 2322 \nL 691 4666 \nz\n\" id=\"DejaVuSans-35\" transform=\"scale(0.015625)\"/>\n       </defs>\n       <use xlink:href=\"#DejaVuSans-35\"/>\n       <use x=\"63.623047\" xlink:href=\"#DejaVuSans-30\"/>\n      </g>\n     </g>\n    </g>\n    <g id=\"ytick_3\">\n     <g id=\"line2d_9\">\n      <g>\n       <use style=\"stroke:#000000;stroke-width:0.8;\" x=\"33.2875\" xlink:href=\"#m6a8ed4b30d\" y=\"197.870071\"/>\n      </g>\n     </g>\n     <g id=\"text_9\">\n      <!-- 100 -->\n      <g transform=\"translate(7.2 201.66929)scale(0.1 -0.1)\">\n       <defs>\n        <path d=\"M 794 531 \nL 1825 531 \nL 1825 4091 \nL 703 3866 \nL 703 4441 \nL 1819 4666 \nL 2450 4666 \nL 2450 531 \nL 3481 531 \nL 3481 0 \nL 794 0 \nL 794 531 \nz\n\" id=\"DejaVuSans-31\" transform=\"scale(0.015625)\"/>\n       </defs>\n       <use xlink:href=\"#DejaVuSans-31\"/>\n       <use x=\"63.623047\" xlink:href=\"#DejaVuSans-30\"/>\n       <use x=\"127.246094\" xlink:href=\"#DejaVuSans-30\"/>\n      </g>\n     </g>\n    </g>\n    <g id=\"ytick_4\">\n     <g id=\"line2d_10\">\n      <g>\n       <use style=\"stroke:#000000;stroke-width:0.8;\" x=\"33.2875\" xlink:href=\"#m6a8ed4b30d\" y=\"139.305107\"/>\n      </g>\n     </g>\n     <g id=\"text_10\">\n      <!-- 150 -->\n      <g transform=\"translate(7.2 143.104325)scale(0.1 -0.1)\">\n       <use xlink:href=\"#DejaVuSans-31\"/>\n       <use x=\"63.623047\" xlink:href=\"#DejaVuSans-35\"/>\n       <use x=\"127.246094\" xlink:href=\"#DejaVuSans-30\"/>\n      </g>\n     </g>\n    </g>\n    <g id=\"ytick_5\">\n     <g id=\"line2d_11\">\n      <g>\n       <use style=\"stroke:#000000;stroke-width:0.8;\" x=\"33.2875\" xlink:href=\"#m6a8ed4b30d\" y=\"80.740142\"/>\n      </g>\n     </g>\n     <g id=\"text_11\">\n      <!-- 200 -->\n      <g transform=\"translate(7.2 84.539361)scale(0.1 -0.1)\">\n       <defs>\n        <path d=\"M 1228 531 \nL 3431 531 \nL 3431 0 \nL 469 0 \nL 469 531 \nQ 828 903 1448 1529 \nQ 2069 2156 2228 2338 \nQ 2531 2678 2651 2914 \nQ 2772 3150 2772 3378 \nQ 2772 3750 2511 3984 \nQ 2250 4219 1831 4219 \nQ 1534 4219 1204 4116 \nQ 875 4013 500 3803 \nL 500 4441 \nQ 881 4594 1212 4672 \nQ 1544 4750 1819 4750 \nQ 2544 4750 2975 4387 \nQ 3406 4025 3406 3419 \nQ 3406 3131 3298 2873 \nQ 3191 2616 2906 2266 \nQ 2828 2175 2409 1742 \nQ 1991 1309 1228 531 \nz\n\" id=\"DejaVuSans-32\" transform=\"scale(0.015625)\"/>\n       </defs>\n       <use xlink:href=\"#DejaVuSans-32\"/>\n       <use x=\"63.623047\" xlink:href=\"#DejaVuSans-30\"/>\n       <use x=\"127.246094\" xlink:href=\"#DejaVuSans-30\"/>\n      </g>\n     </g>\n    </g>\n   </g>\n   <g id=\"patch_9\">\n    <path d=\"M 33.2875 315 \nL 33.2875 43.2 \n\" style=\"fill:none;stroke:#000000;stroke-linecap:square;stroke-linejoin:miter;stroke-width:0.8;\"/>\n   </g>\n   <g id=\"patch_10\">\n    <path d=\"M 337.651136 315 \nL 337.651136 43.2 \n\" style=\"fill:none;stroke:#000000;stroke-linecap:square;stroke-linejoin:miter;stroke-width:0.8;\"/>\n   </g>\n   <g id=\"patch_11\">\n    <path d=\"M 33.2875 315 \nL 337.651136 315 \n\" style=\"fill:none;stroke:#000000;stroke-linecap:square;stroke-linejoin:miter;stroke-width:0.8;\"/>\n   </g>\n   <g id=\"patch_12\">\n    <path d=\"M 33.2875 43.2 \nL 337.651136 43.2 \n\" style=\"fill:none;stroke:#000000;stroke-linecap:square;stroke-linejoin:miter;stroke-width:0.8;\"/>\n   </g>\n   <g id=\"text_12\">\n    <!-- By Race -->\n    <g transform=\"translate(161.192756 37.2)scale(0.12 -0.12)\">\n     <defs>\n      <path d=\"M 1259 2228 \nL 1259 519 \nL 2272 519 \nQ 2781 519 3026 730 \nQ 3272 941 3272 1375 \nQ 3272 1813 3026 2020 \nQ 2781 2228 2272 2228 \nL 1259 2228 \nz\nM 1259 4147 \nL 1259 2741 \nL 2194 2741 \nQ 2656 2741 2882 2914 \nQ 3109 3088 3109 3444 \nQ 3109 3797 2882 3972 \nQ 2656 4147 2194 4147 \nL 1259 4147 \nz\nM 628 4666 \nL 2241 4666 \nQ 2963 4666 3353 4366 \nQ 3744 4066 3744 3513 \nQ 3744 3084 3544 2831 \nQ 3344 2578 2956 2516 \nQ 3422 2416 3680 2098 \nQ 3938 1781 3938 1306 \nQ 3938 681 3513 340 \nQ 3088 0 2303 0 \nL 628 0 \nL 628 4666 \nz\n\" id=\"DejaVuSans-42\" transform=\"scale(0.015625)\"/>\n      <path d=\"M 2059 -325 \nQ 1816 -950 1584 -1140 \nQ 1353 -1331 966 -1331 \nL 506 -1331 \nL 506 -850 \nL 844 -850 \nQ 1081 -850 1212 -737 \nQ 1344 -625 1503 -206 \nL 1606 56 \nL 191 3500 \nL 800 3500 \nL 1894 763 \nL 2988 3500 \nL 3597 3500 \nL 2059 -325 \nz\n\" id=\"DejaVuSans-79\" transform=\"scale(0.015625)\"/>\n      <path d=\"M 2841 2188 \nQ 3044 2119 3236 1894 \nQ 3428 1669 3622 1275 \nL 4263 0 \nL 3584 0 \nL 2988 1197 \nQ 2756 1666 2539 1819 \nQ 2322 1972 1947 1972 \nL 1259 1972 \nL 1259 0 \nL 628 0 \nL 628 4666 \nL 2053 4666 \nQ 2853 4666 3247 4331 \nQ 3641 3997 3641 3322 \nQ 3641 2881 3436 2590 \nQ 3231 2300 2841 2188 \nz\nM 1259 4147 \nL 1259 2491 \nL 2053 2491 \nQ 2509 2491 2742 2702 \nQ 2975 2913 2975 3322 \nQ 2975 3731 2742 3939 \nQ 2509 4147 2053 4147 \nL 1259 4147 \nz\n\" id=\"DejaVuSans-52\" transform=\"scale(0.015625)\"/>\n     </defs>\n     <use xlink:href=\"#DejaVuSans-42\"/>\n     <use x=\"68.603516\" xlink:href=\"#DejaVuSans-79\"/>\n     <use x=\"127.783203\" xlink:href=\"#DejaVuSans-20\"/>\n     <use x=\"159.570312\" xlink:href=\"#DejaVuSans-52\"/>\n     <use x=\"226.802734\" xlink:href=\"#DejaVuSans-61\"/>\n     <use x=\"288.082031\" xlink:href=\"#DejaVuSans-63\"/>\n     <use x=\"343.0625\" xlink:href=\"#DejaVuSans-65\"/>\n    </g>\n   </g>\n  </g>\n  <g id=\"axes_2\">\n   <g id=\"patch_13\">\n    <path d=\"M 398.523864 315 \nL 702.8875 315 \nL 702.8875 43.2 \nL 398.523864 43.2 \nz\n\" style=\"fill:#ffffff;\"/>\n   </g>\n   <g id=\"patch_14\">\n    <path clip-path=\"url(#p6343ebce24)\" d=\"M 412.358574 315 \nL 535.333781 315 \nL 535.333781 163.902392 \nL 412.358574 163.902392 \nz\n\" style=\"fill:#1f77b4;\"/>\n   </g>\n   <g id=\"patch_15\">\n    <path clip-path=\"url(#p6343ebce24)\" d=\"M 566.077583 315 \nL 689.052789 315 \nL 689.052789 58.485456 \nL 566.077583 58.485456 \nz\n\" style=\"fill:#1f77b4;\"/>\n   </g>\n   <g id=\"matplotlib.axis_3\">\n    <g id=\"xtick_7\">\n     <g id=\"line2d_12\">\n      <g>\n       <use style=\"stroke:#000000;stroke-width:0.8;\" x=\"473.846178\" xlink:href=\"#m6716c7442a\" y=\"315\"/>\n      </g>\n     </g>\n     <g id=\"text_13\">\n      <!-- female -->\n      <g transform=\"translate(456.609459 329.598437)scale(0.1 -0.1)\">\n       <defs>\n        <path d=\"M 3328 2828 \nQ 3544 3216 3844 3400 \nQ 4144 3584 4550 3584 \nQ 5097 3584 5394 3201 \nQ 5691 2819 5691 2113 \nL 5691 0 \nL 5113 0 \nL 5113 2094 \nQ 5113 2597 4934 2840 \nQ 4756 3084 4391 3084 \nQ 3944 3084 3684 2787 \nQ 3425 2491 3425 1978 \nL 3425 0 \nL 2847 0 \nL 2847 2094 \nQ 2847 2600 2669 2842 \nQ 2491 3084 2119 3084 \nQ 1678 3084 1418 2786 \nQ 1159 2488 1159 1978 \nL 1159 0 \nL 581 0 \nL 581 3500 \nL 1159 3500 \nL 1159 2956 \nQ 1356 3278 1631 3431 \nQ 1906 3584 2284 3584 \nQ 2666 3584 2933 3390 \nQ 3200 3197 3328 2828 \nz\n\" id=\"DejaVuSans-6d\" transform=\"scale(0.015625)\"/>\n       </defs>\n       <use xlink:href=\"#DejaVuSans-66\"/>\n       <use x=\"35.205078\" xlink:href=\"#DejaVuSans-65\"/>\n       <use x=\"96.728516\" xlink:href=\"#DejaVuSans-6d\"/>\n       <use x=\"194.140625\" xlink:href=\"#DejaVuSans-61\"/>\n       <use x=\"255.419922\" xlink:href=\"#DejaVuSans-6c\"/>\n       <use x=\"283.203125\" xlink:href=\"#DejaVuSans-65\"/>\n      </g>\n     </g>\n    </g>\n    <g id=\"xtick_8\">\n     <g id=\"line2d_13\">\n      <g>\n       <use style=\"stroke:#000000;stroke-width:0.8;\" x=\"627.565186\" xlink:href=\"#m6716c7442a\" y=\"315\"/>\n      </g>\n     </g>\n     <g id=\"text_14\">\n      <!-- male -->\n      <g transform=\"translate(615.165186 329.598437)scale(0.1 -0.1)\">\n       <use xlink:href=\"#DejaVuSans-6d\"/>\n       <use x=\"97.412109\" xlink:href=\"#DejaVuSans-61\"/>\n       <use x=\"158.691406\" xlink:href=\"#DejaVuSans-6c\"/>\n       <use x=\"186.474609\" xlink:href=\"#DejaVuSans-65\"/>\n      </g>\n     </g>\n    </g>\n   </g>\n   <g id=\"matplotlib.axis_4\">\n    <g id=\"ytick_6\">\n     <g id=\"line2d_14\">\n      <g>\n       <use style=\"stroke:#000000;stroke-width:0.8;\" x=\"398.523864\" xlink:href=\"#m6a8ed4b30d\" y=\"315\"/>\n      </g>\n     </g>\n    </g>\n    <g id=\"ytick_7\">\n     <g id=\"line2d_15\">\n      <g>\n       <use style=\"stroke:#000000;stroke-width:0.8;\" x=\"398.523864\" xlink:href=\"#m6a8ed4b30d\" y=\"256.435036\"/>\n      </g>\n     </g>\n    </g>\n    <g id=\"ytick_8\">\n     <g id=\"line2d_16\">\n      <g>\n       <use style=\"stroke:#000000;stroke-width:0.8;\" x=\"398.523864\" xlink:href=\"#m6a8ed4b30d\" y=\"197.870071\"/>\n      </g>\n     </g>\n    </g>\n    <g id=\"ytick_9\">\n     <g id=\"line2d_17\">\n      <g>\n       <use style=\"stroke:#000000;stroke-width:0.8;\" x=\"398.523864\" xlink:href=\"#m6a8ed4b30d\" y=\"139.305107\"/>\n      </g>\n     </g>\n    </g>\n    <g id=\"ytick_10\">\n     <g id=\"line2d_18\">\n      <g>\n       <use style=\"stroke:#000000;stroke-width:0.8;\" x=\"398.523864\" xlink:href=\"#m6a8ed4b30d\" y=\"80.740142\"/>\n      </g>\n     </g>\n    </g>\n   </g>\n   <g id=\"patch_16\">\n    <path d=\"M 398.523864 315 \nL 398.523864 43.2 \n\" style=\"fill:none;stroke:#000000;stroke-linecap:square;stroke-linejoin:miter;stroke-width:0.8;\"/>\n   </g>\n   <g id=\"patch_17\">\n    <path d=\"M 702.8875 315 \nL 702.8875 43.2 \n\" style=\"fill:none;stroke:#000000;stroke-linecap:square;stroke-linejoin:miter;stroke-width:0.8;\"/>\n   </g>\n   <g id=\"patch_18\">\n    <path d=\"M 398.523864 315 \nL 702.8875 315 \n\" style=\"fill:none;stroke:#000000;stroke-linecap:square;stroke-linejoin:miter;stroke-width:0.8;\"/>\n   </g>\n   <g id=\"patch_19\">\n    <path d=\"M 398.523864 43.2 \nL 702.8875 43.2 \n\" style=\"fill:none;stroke:#000000;stroke-linecap:square;stroke-linejoin:miter;stroke-width:0.8;\"/>\n   </g>\n   <g id=\"text_15\">\n    <!-- By Sex -->\n    <g transform=\"translate(530.183807 37.2)scale(0.12 -0.12)\">\n     <defs>\n      <path d=\"M 3425 4513 \nL 3425 3897 \nQ 3066 4069 2747 4153 \nQ 2428 4238 2131 4238 \nQ 1616 4238 1336 4038 \nQ 1056 3838 1056 3469 \nQ 1056 3159 1242 3001 \nQ 1428 2844 1947 2747 \nL 2328 2669 \nQ 3034 2534 3370 2195 \nQ 3706 1856 3706 1288 \nQ 3706 609 3251 259 \nQ 2797 -91 1919 -91 \nQ 1588 -91 1214 -16 \nQ 841 59 441 206 \nL 441 856 \nQ 825 641 1194 531 \nQ 1563 422 1919 422 \nQ 2459 422 2753 634 \nQ 3047 847 3047 1241 \nQ 3047 1584 2836 1778 \nQ 2625 1972 2144 2069 \nL 1759 2144 \nQ 1053 2284 737 2584 \nQ 422 2884 422 3419 \nQ 422 4038 858 4394 \nQ 1294 4750 2059 4750 \nQ 2388 4750 2728 4690 \nQ 3069 4631 3425 4513 \nz\n\" id=\"DejaVuSans-53\" transform=\"scale(0.015625)\"/>\n      <path d=\"M 3513 3500 \nL 2247 1797 \nL 3578 0 \nL 2900 0 \nL 1881 1375 \nL 863 0 \nL 184 0 \nL 1544 1831 \nL 300 3500 \nL 978 3500 \nL 1906 2253 \nL 2834 3500 \nL 3513 3500 \nz\n\" id=\"DejaVuSans-78\" transform=\"scale(0.015625)\"/>\n     </defs>\n     <use xlink:href=\"#DejaVuSans-42\"/>\n     <use x=\"68.603516\" xlink:href=\"#DejaVuSans-79\"/>\n     <use x=\"127.783203\" xlink:href=\"#DejaVuSans-20\"/>\n     <use x=\"159.570312\" xlink:href=\"#DejaVuSans-53\"/>\n     <use x=\"223.046875\" xlink:href=\"#DejaVuSans-65\"/>\n     <use x=\"282.820312\" xlink:href=\"#DejaVuSans-78\"/>\n    </g>\n   </g>\n  </g>\n  <g id=\"text_16\">\n   <!-- Traffic Stops in Durham - March 21st through 27th - 2015 -->\n   <g transform=\"translate(185.400625 16.318125)scale(0.12 -0.12)\">\n    <defs>\n     <path d=\"M -19 4666 \nL 3928 4666 \nL 3928 4134 \nL 2272 4134 \nL 2272 0 \nL 1638 0 \nL 1638 4134 \nL -19 4134 \nL -19 4666 \nz\n\" id=\"DejaVuSans-54\" transform=\"scale(0.015625)\"/>\n     <path d=\"M 1259 4147 \nL 1259 519 \nL 2022 519 \nQ 2988 519 3436 956 \nQ 3884 1394 3884 2338 \nQ 3884 3275 3436 3711 \nQ 2988 4147 2022 4147 \nL 1259 4147 \nz\nM 628 4666 \nL 1925 4666 \nQ 3281 4666 3915 4102 \nQ 4550 3538 4550 2338 \nQ 4550 1131 3912 565 \nQ 3275 0 1925 0 \nL 628 0 \nL 628 4666 \nz\n\" id=\"DejaVuSans-44\" transform=\"scale(0.015625)\"/>\n     <path d=\"M 313 2009 \nL 1997 2009 \nL 1997 1497 \nL 313 1497 \nL 313 2009 \nz\n\" id=\"DejaVuSans-2d\" transform=\"scale(0.015625)\"/>\n     <path d=\"M 628 4666 \nL 1569 4666 \nL 2759 1491 \nL 3956 4666 \nL 4897 4666 \nL 4897 0 \nL 4281 0 \nL 4281 4097 \nL 3078 897 \nL 2444 897 \nL 1241 4097 \nL 1241 0 \nL 628 0 \nL 628 4666 \nz\n\" id=\"DejaVuSans-4d\" transform=\"scale(0.015625)\"/>\n     <path d=\"M 2906 1791 \nQ 2906 2416 2648 2759 \nQ 2391 3103 1925 3103 \nQ 1463 3103 1205 2759 \nQ 947 2416 947 1791 \nQ 947 1169 1205 825 \nQ 1463 481 1925 481 \nQ 2391 481 2648 825 \nQ 2906 1169 2906 1791 \nz\nM 3481 434 \nQ 3481 -459 3084 -895 \nQ 2688 -1331 1869 -1331 \nQ 1566 -1331 1297 -1286 \nQ 1028 -1241 775 -1147 \nL 775 -588 \nQ 1028 -725 1275 -790 \nQ 1522 -856 1778 -856 \nQ 2344 -856 2625 -561 \nQ 2906 -266 2906 331 \nL 2906 616 \nQ 2728 306 2450 153 \nQ 2172 0 1784 0 \nQ 1141 0 747 490 \nQ 353 981 353 1791 \nQ 353 2603 747 3093 \nQ 1141 3584 1784 3584 \nQ 2172 3584 2450 3431 \nQ 2728 3278 2906 2969 \nL 2906 3500 \nL 3481 3500 \nL 3481 434 \nz\n\" id=\"DejaVuSans-67\" transform=\"scale(0.015625)\"/>\n     <path d=\"M 525 4666 \nL 3525 4666 \nL 3525 4397 \nL 1831 0 \nL 1172 0 \nL 2766 4134 \nL 525 4134 \nL 525 4666 \nz\n\" id=\"DejaVuSans-37\" transform=\"scale(0.015625)\"/>\n    </defs>\n    <use xlink:href=\"#DejaVuSans-54\"/>\n    <use x=\"46.333984\" xlink:href=\"#DejaVuSans-72\"/>\n    <use x=\"87.447266\" xlink:href=\"#DejaVuSans-61\"/>\n    <use x=\"148.726562\" xlink:href=\"#DejaVuSans-66\"/>\n    <use x=\"183.931641\" xlink:href=\"#DejaVuSans-66\"/>\n    <use x=\"219.136719\" xlink:href=\"#DejaVuSans-69\"/>\n    <use x=\"246.919922\" xlink:href=\"#DejaVuSans-63\"/>\n    <use x=\"301.900391\" xlink:href=\"#DejaVuSans-20\"/>\n    <use x=\"333.6875\" xlink:href=\"#DejaVuSans-53\"/>\n    <use x=\"397.164062\" xlink:href=\"#DejaVuSans-74\"/>\n    <use x=\"436.373047\" xlink:href=\"#DejaVuSans-6f\"/>\n    <use x=\"497.554688\" xlink:href=\"#DejaVuSans-70\"/>\n    <use x=\"561.03125\" xlink:href=\"#DejaVuSans-73\"/>\n    <use x=\"613.130859\" xlink:href=\"#DejaVuSans-20\"/>\n    <use x=\"644.917969\" xlink:href=\"#DejaVuSans-69\"/>\n    <use x=\"672.701172\" xlink:href=\"#DejaVuSans-6e\"/>\n    <use x=\"736.080078\" xlink:href=\"#DejaVuSans-20\"/>\n    <use x=\"767.867188\" xlink:href=\"#DejaVuSans-44\"/>\n    <use x=\"844.869141\" xlink:href=\"#DejaVuSans-75\"/>\n    <use x=\"908.248047\" xlink:href=\"#DejaVuSans-72\"/>\n    <use x=\"947.611328\" xlink:href=\"#DejaVuSans-68\"/>\n    <use x=\"1010.990234\" xlink:href=\"#DejaVuSans-61\"/>\n    <use x=\"1072.269531\" xlink:href=\"#DejaVuSans-6d\"/>\n    <use x=\"1169.681641\" xlink:href=\"#DejaVuSans-20\"/>\n    <use x=\"1201.46875\" xlink:href=\"#DejaVuSans-2d\"/>\n    <use x=\"1237.552734\" xlink:href=\"#DejaVuSans-20\"/>\n    <use x=\"1269.339844\" xlink:href=\"#DejaVuSans-4d\"/>\n    <use x=\"1355.619141\" xlink:href=\"#DejaVuSans-61\"/>\n    <use x=\"1416.898438\" xlink:href=\"#DejaVuSans-72\"/>\n    <use x=\"1455.761719\" xlink:href=\"#DejaVuSans-63\"/>\n    <use x=\"1510.742188\" xlink:href=\"#DejaVuSans-68\"/>\n    <use x=\"1574.121094\" xlink:href=\"#DejaVuSans-20\"/>\n    <use x=\"1605.908203\" xlink:href=\"#DejaVuSans-32\"/>\n    <use x=\"1669.53125\" xlink:href=\"#DejaVuSans-31\"/>\n    <use x=\"1733.154297\" xlink:href=\"#DejaVuSans-73\"/>\n    <use x=\"1785.253906\" xlink:href=\"#DejaVuSans-74\"/>\n    <use x=\"1824.462891\" xlink:href=\"#DejaVuSans-20\"/>\n    <use x=\"1856.25\" xlink:href=\"#DejaVuSans-74\"/>\n    <use x=\"1895.458984\" xlink:href=\"#DejaVuSans-68\"/>\n    <use x=\"1958.837891\" xlink:href=\"#DejaVuSans-72\"/>\n    <use x=\"1997.701172\" xlink:href=\"#DejaVuSans-6f\"/>\n    <use x=\"2058.882812\" xlink:href=\"#DejaVuSans-75\"/>\n    <use x=\"2122.261719\" xlink:href=\"#DejaVuSans-67\"/>\n    <use x=\"2185.738281\" xlink:href=\"#DejaVuSans-68\"/>\n    <use x=\"2249.117188\" xlink:href=\"#DejaVuSans-20\"/>\n    <use x=\"2280.904297\" xlink:href=\"#DejaVuSans-32\"/>\n    <use x=\"2344.527344\" xlink:href=\"#DejaVuSans-37\"/>\n    <use x=\"2408.150391\" xlink:href=\"#DejaVuSans-74\"/>\n    <use x=\"2447.359375\" xlink:href=\"#DejaVuSans-68\"/>\n    <use x=\"2510.738281\" xlink:href=\"#DejaVuSans-20\"/>\n    <use x=\"2542.525391\" xlink:href=\"#DejaVuSans-2d\"/>\n    <use x=\"2578.609375\" xlink:href=\"#DejaVuSans-20\"/>\n    <use x=\"2610.396484\" xlink:href=\"#DejaVuSans-32\"/>\n    <use x=\"2674.019531\" xlink:href=\"#DejaVuSans-30\"/>\n    <use x=\"2737.642578\" xlink:href=\"#DejaVuSans-31\"/>\n    <use x=\"2801.265625\" xlink:href=\"#DejaVuSans-35\"/>\n   </g>\n  </g>\n </g>\n <defs>\n  <clipPath id=\"p22ad58ce3e\">\n   <rect height=\"271.8\" width=\"304.363636\" x=\"33.2875\" y=\"43.2\"/>\n  </clipPath>\n  <clipPath id=\"p6343ebce24\">\n   <rect height=\"271.8\" width=\"304.363636\" x=\"398.523864\" y=\"43.2\"/>\n  </clipPath>\n </defs>\n</svg>\n",
      "image/png": "[encoded data removed]"
     },
     "metadata": {
      "needs_background": "light"
     }
    }
   ],
   "source": [
    "from matplotlib import pyplot as plt\n",
    "\n",
    "fig, axes = plt.subplots(1, 2, figsize=(12, 5), sharey=True)\n",
    "fig.suptitle(\"Traffic Stops in Durham - March 21st through 27th - 2015\")\n",
    "\n",
    "\n",
    "axes[0].set_title(\"By Race\")\n",
    "axes[0].bar(race_counts.keys(), race_counts.values())\n",
    "axes[0].tick_params(axis='x', labelrotation = 45)\n",
    "\n",
    "axes[1].set_title(\"By Sex\")\n",
    "axes[1].bar(sex_counts.keys(), sex_counts.values())"
   ]
  },
  {
   "cell_type": "code",
   "execution_count": null,
   "metadata": {},
   "outputs": [],
   "source": []
  }
 ],
 "metadata": {
  "language_info": {
   "version": "3.9.5"
  },
  "orig_nbformat": 3,
  "kernelspec": {
   "name": "python395jvsc74a57bd0aee8b7b246df8f9039afb4144a1f6fd8d2ca17a180786b69acc140d282b71a49",
   "display_name": "Python 3.9.5 64-bit"
  },
  "metadata": {
   "interpreter": {
    "hash": "aee8b7b246df8f9039afb4144a1f6fd8d2ca17a180786b69acc140d282b71a49"
   }
  }
 },
 "nbformat": 4,
 "nbformat_minor": 2
}